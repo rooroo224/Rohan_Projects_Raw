{
 "cells": [
  {
   "cell_type": "code",
   "execution_count": 9,
   "metadata": {},
   "outputs": [],
   "source": [
    "import tensorflow as tf\n",
    "import tensorflow.keras as keras\n",
    "import pandas as pd\n",
    "import numpy as np\n",
    "from sklearn.model_selection import train_test_split\n",
    "\n",
    "from numpy import mean,array\n",
    "from numpy import std\n",
    "from sklearn.datasets import make_regression\n",
    "from sklearn.model_selection import RepeatedKFold\n",
    "from tensorflow.keras.models import Sequential,Model\n",
    "from tensorflow.keras.layers import Dense,BatchNormalization,Flatten,Conv1D,MaxPooling1D,Dropout,concatenate,Input\n",
    "from tensorflow.keras.callbacks import EarlyStopping,ModelCheckpoint\n",
    "from sklearn.model_selection import train_test_split\n",
    "import matplotlib.pyplot as plt\n",
    "import zipfile\n",
    "from numpy import array\n",
    "from numpy import hstack"
   ]
  },
  {
   "cell_type": "code",
   "execution_count": 10,
   "metadata": {},
   "outputs": [
    {
     "name": "stdout",
     "output_type": "stream",
     "text": [
      "1030\n",
      "2030\n",
      "3030\n"
     ]
    }
   ],
   "source": [
    "blocks = [1030, 2030, 3030]\n",
    "#blocks = [1030, 2030, 3030, 4030, 5030, 6030, 7030]\n",
    "\n",
    "dfss = []\n",
    "for block in blocks:\n",
    "    print(block)\n",
    "    dfss.append(pd.read_csv('combined_df_'+str(block)+'.csv'))"
   ]
  },
  {
   "cell_type": "code",
   "execution_count": 11,
   "metadata": {},
   "outputs": [],
   "source": [
    "df = pd.concat(dfss)"
   ]
  },
  {
   "cell_type": "code",
   "execution_count": 12,
   "metadata": {},
   "outputs": [
    {
     "data": {
      "text/plain": [
       "(1685106, 71)"
      ]
     },
     "execution_count": 12,
     "metadata": {},
     "output_type": "execute_result"
    }
   ],
   "source": [
    "df.shape"
   ]
  },
  {
   "cell_type": "code",
   "execution_count": 13,
   "metadata": {},
   "outputs": [],
   "source": [
    "def get_dataset():\n",
    "    X = df[['Leading angle','Side tilt angle','Tool Tip Point X',\n",
    "           'Tool Tip Point Y', 'Tool Tip Point Z', 'Tool Orientation X',\n",
    "           'Tool Orientation Y', 'Tool Orientation Z',]].copy(deep=True).to_numpy()\n",
    "    y = df[['MachineX', 'MachineY', 'MachineZ', 'MachineA', 'MachineC']].copy(deep=True).to_numpy()\n",
    "    \n",
    "    return X,y"
   ]
  },
  {
   "cell_type": "code",
   "execution_count": 14,
   "metadata": {},
   "outputs": [
    {
     "ename": "SyntaxError",
     "evalue": "invalid syntax (<ipython-input-14-0e505c374ca7>, line 50)",
     "output_type": "error",
     "traceback": [
      "\u001b[0;36m  File \u001b[0;32m\"<ipython-input-14-0e505c374ca7>\"\u001b[0;36m, line \u001b[0;32m50\u001b[0m\n\u001b[0;31m    def functional_model_create(num,n_ip_features)\u001b[0m\n\u001b[0m                                                  ^\u001b[0m\n\u001b[0;31mSyntaxError\u001b[0m\u001b[0;31m:\u001b[0m invalid syntax\n"
     ]
    }
   ],
   "source": [
    "# split a multivariate sequence into samples\n",
    "def split_sequences(sequences, n_steps_in):\n",
    "    X, y = list(), list()\n",
    "   \n",
    "    for i in range(len(sequences)):\n",
    "        # find the end of this pattern\n",
    "        end_ix = i + n_steps_in\n",
    "        \n",
    "        # check if we are beyond the dataset\n",
    "        if end_ix > len(sequences):\n",
    "            break\n",
    "        # gather input and output parts of the pattern\n",
    "        seq_x, seq_y = sequences[i:end_ix, 0:8], sequences[end_ix-1, 8:14]  # columns to see which are I/P and O/P features\n",
    "        \n",
    "        X.append(seq_x)\n",
    "        y.append(seq_y)\n",
    "    return array(X), array(y)\n",
    "\n",
    "# define input sequence\n",
    "X,y = get_dataset()\n",
    "print(X.shape,y.shape)\n",
    "dataset = np.concatenate((X[0:10000,:],y[0:10000,:]),axis=1)  \n",
    "#dataset = np.concatenate((X,y),axis=1)  \n",
    "\n",
    "\n",
    "# choose a number of time steps\n",
    "n_steps_in = 400\n",
    "# convert into input/output\n",
    "X, y = split_sequences(dataset, n_steps_in)\n",
    "print(X.shape,y.shape)\n",
    "\n",
    "num = 50\n",
    "size = np.floor(n_steps_in/num)\n",
    "\n",
    "sub_sampled = np.arange(0,n_steps_in,size, dtype=int)\n",
    "\n",
    "X_sampled = np.empty((X.shape[0],sub_sampled.shape[0],X.shape[2]))\n",
    "for i in np.arange(X.shape[0]):\n",
    "    X_sampled[i] = X[i][sub_sampled][:]\n",
    "\n",
    "print(X.shape,y.shape)\n",
    "\n",
    "X_train, X_test, y_train, y_test = train_test_split(X_sampled, y, test_size=0.2, random_state=42)\n",
    "print(X_train.shape,y_train.shape)\n",
    "\n",
    "n_ip_features = X_train.shape[2]              \n",
    "n_op_features = y_train.shape[1]\n",
    "#print(n_op_features)\n",
    "# define model\n",
    "def functional_model_create(num,n_ip_features)\n",
    "    imp = Input(shape=(n, n_features))\n",
    "    model.add(Conv1D(filters=600, kernel_size=5, activation='relu', input_shape=(num, n_ip_features)))\n",
    "    model.add(BatchNormalization())\n",
    "    model.add(MaxPooling1D(pool_size=2))\n",
    "    model.add(Conv1D(filters=600, kernel_size=10, activation='relu'))\n",
    "    #model.add(Dropout(0.35))\n",
    "    model.add(Flatten())\n",
    "    return model\n",
    "\n",
    "all_models = [functional_model_create(num, n_ip_features) for i in np.arange(np_ip_features)]\n",
    "\n",
    "merge = concatinate(all_models)\n",
    "\n",
    "dense = Dense(150, activation='relu')(merge)\n",
    "output = Dense(n_op_features)(dense)\n",
    "model = Model(inputs=[visible1, visible2,vi], outputs=output)\n",
    "model.summary()\n",
    "model.compile(optimizer='adam', loss='mse')   \n",
    "\n",
    "early_stopping = EarlyStopping(monitor='val_loss', patience=300, mode='min')\n",
    "model_checkpoint = ModelCheckpoint('best_model.h5', monitor='val_loss', mode='min', save_best_only=True, verbose=1)\n",
    "# fit model\n",
    "history = model.fit(X_train, y_train, epochs=2000,validation_data=(X_test,y_test), verbose=0,callbacks=[early_stopping,model_checkpoint])\n",
    "          \n",
    "plt.plot(history.history['loss'], label='train')\n",
    "plt.plot(history.history['val_loss'], label='test')\n",
    "\n",
    "plt.legend()\n",
    "plt.show()\n",
    "# demonstrate prediction\n",
    "#x_input = array([[70, 75], [80, 85], [90, 95]])\n",
    "#x_input = x_input.reshape((1, n_steps_in, n_features))\n",
    "#yhat = model.predict(x_input, verbose=0)\n",
    "#print(yhat)"
   ]
  },
  {
   "cell_type": "code",
   "execution_count": null,
   "metadata": {},
   "outputs": [],
   "source": []
  },
  {
   "cell_type": "code",
   "execution_count": null,
   "metadata": {},
   "outputs": [],
   "source": []
  }
 ],
 "metadata": {
  "kernelspec": {
   "display_name": "Python 3",
   "language": "python",
   "name": "python3"
  },
  "language_info": {
   "codemirror_mode": {
    "name": "ipython",
    "version": 3
   },
   "file_extension": ".py",
   "mimetype": "text/x-python",
   "name": "python",
   "nbconvert_exporter": "python",
   "pygments_lexer": "ipython3",
   "version": "3.7.6"
  }
 },
 "nbformat": 4,
 "nbformat_minor": 4
}
